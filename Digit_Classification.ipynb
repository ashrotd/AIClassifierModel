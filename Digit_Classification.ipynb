{
  "nbformat": 4,
  "nbformat_minor": 0,
  "metadata": {
    "colab": {
      "provenance": [],
      "authorship_tag": "ABX9TyPCydqbWvqVnp68iqzKvny/",
      "include_colab_link": true
    },
    "kernelspec": {
      "name": "python3",
      "display_name": "Python 3"
    },
    "language_info": {
      "name": "python"
    }
  },
  "cells": [
    {
      "cell_type": "markdown",
      "metadata": {
        "id": "view-in-github",
        "colab_type": "text"
      },
      "source": [
        "<a href=\"https://colab.research.google.com/github/ashrotd/AIClassifierModel/blob/main/Digit_Classification.ipynb\" target=\"_parent\"><img src=\"https://colab.research.google.com/assets/colab-badge.svg\" alt=\"Open In Colab\"/></a>"
      ]
    },
    {
      "cell_type": "code",
      "source": [
        "import torch\n",
        "import torchvision\n",
        "import numpy as np\n",
        "import matplotlib.pyplot as plt\n"
      ],
      "metadata": {
        "id": "IEiMKl0rpVnL"
      },
      "execution_count": 127,
      "outputs": []
    },
    {
      "cell_type": "code",
      "source": [
        "train_data = torchvision.datasets.MNIST(root='./data',train=True, transform=transforms.ToTensor(),download=True)\n",
        "test_data = torchvision.datasets.MNIST(root='./data',train=False,transform=transforms.ToTensor(),download=True)"
      ],
      "metadata": {
        "id": "UIR-WQKtqNcC"
      },
      "execution_count": 128,
      "outputs": []
    },
    {
      "cell_type": "code",
      "source": [
        "train_loader = torch.utils.data.DataLoader(train_data,batch_size=100,shuffle=True)\n",
        "test_loader = torch.utils.data.DataLoader(test_data,batch_size=100,shuffle=True)"
      ],
      "metadata": {
        "id": "tm6imhfAqyE-"
      },
      "execution_count": 129,
      "outputs": []
    },
    {
      "cell_type": "code",
      "source": [
        "class NeuralNet(nn.Module):\n",
        "  def __init__(self,input_dims,hidden_dims,output_dims):\n",
        "    super(NeuralNet,self).__init__()\n",
        "    self.linear1 = nn.Linear(input_dims,hidden_dims)\n",
        "    self.relu = nn.ReLU()\n",
        "    self.linear2 = nn.Linear(hidden_dims,output_dims)\n",
        "\n",
        "  def forward(self,x):\n",
        "    out = self.linear1(x)\n",
        "    out = self.relu(out)\n",
        "    out = self.linear2(out)\n",
        "\n",
        "    return out\n"
      ],
      "metadata": {
        "id": "KtU3I2P8rGu_"
      },
      "execution_count": 130,
      "outputs": []
    },
    {
      "cell_type": "code",
      "source": [
        "#params \n",
        "epochs = 2\n",
        "batch_size = 100\n",
        "hidden_dims = 100\n",
        "input_dims = 28*28\n",
        "output_dims = 10"
      ],
      "metadata": {
        "id": "WudZbK6EsxeJ"
      },
      "execution_count": 131,
      "outputs": []
    },
    {
      "cell_type": "code",
      "source": [
        "model = NeuralNet(input_dims,hidden_dims,output_dims)"
      ],
      "metadata": {
        "id": "M1DFshlts8t2"
      },
      "execution_count": 132,
      "outputs": []
    },
    {
      "cell_type": "code",
      "source": [
        "loss = nn.CrossEntropyLoss()\n",
        "optimizer = torch.optim.Adam(model.parameters(),lr=0.01)"
      ],
      "metadata": {
        "id": "uB66zRpDtOiw"
      },
      "execution_count": 133,
      "outputs": []
    },
    {
      "cell_type": "code",
      "source": [
        "for epoch in range(epochs):\n",
        "  for i, (img,label) in enumerate(train_loader):\n",
        "    img = img.reshape(-1,28*28)\n",
        "\n",
        "    y_pred = model(img)\n",
        "    l = loss(y_pred,label)\n",
        "    \n",
        "    l.backward()\n",
        "    optimizer.step()\n",
        "    optimizer.zero_grad()\n",
        "    \n",
        "    if epoch%100==0:\n",
        "      print(f'Epochs: {epoch+1}/{2},steps: {i}/{600}, loss= {l.item():.4f} ')\n",
        "      "
      ],
      "metadata": {
        "id": "HQDddedXtV2M"
      },
      "execution_count": 135,
      "outputs": []
    },
    {
      "cell_type": "code",
      "source": [
        "with torch.no_grad():\n",
        "  n_correct = 0\n",
        "  n_samples = 0\n",
        "  for img,labels in test_loader:\n",
        "    img = img.reshape(-1,28*28).to(device)\n",
        "    labels = labels.to(device)\n",
        "    predict = model(img)\n",
        "\n",
        "    _,predictions = torch.max(predict,1)\n",
        "    n_samples += labels.shape[0]\n",
        "    n_correct += (predictions==labels).sum().item()\n",
        "  acc = 100*n_correct/n_samples\n",
        "  print(f'Accuracy= {acc}')\n",
        "  "
      ],
      "metadata": {
        "colab": {
          "base_uri": "https://localhost:8080/"
        },
        "id": "m3H4dXUnvE-b",
        "outputId": "8e5baacf-8f28-4453-97df-999b8344fdde"
      },
      "execution_count": 124,
      "outputs": [
        {
          "output_type": "stream",
          "name": "stdout",
          "text": [
            "Accuracy= 96.16\n"
          ]
        }
      ]
    },
    {
      "cell_type": "code",
      "source": [],
      "metadata": {
        "colab": {
          "base_uri": "https://localhost:8080/"
        },
        "id": "x2vOFNMhvv7c",
        "outputId": "4a0544cb-9065-487f-e99f-34e69a01505e"
      },
      "execution_count": 135,
      "outputs": [
        {
          "output_type": "stream",
          "name": "stdout",
          "text": [
            "Accuracy: 96.39\n"
          ]
        }
      ]
    },
    {
      "cell_type": "code",
      "source": [],
      "metadata": {
        "id": "CU4jIbAswcbC"
      },
      "execution_count": null,
      "outputs": []
    }
  ]
}