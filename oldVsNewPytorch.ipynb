{
  "nbformat": 4,
  "nbformat_minor": 0,
  "metadata": {
    "colab": {
      "provenance": [],
      "authorship_tag": "ABX9TyPPqVl4wmDAj4OwsK4vgUnu",
      "include_colab_link": true
    },
    "kernelspec": {
      "name": "python3",
      "display_name": "Python 3"
    },
    "language_info": {
      "name": "python"
    }
  },
  "cells": [
    {
      "cell_type": "markdown",
      "metadata": {
        "id": "view-in-github",
        "colab_type": "text"
      },
      "source": [
        "<a href=\"https://colab.research.google.com/github/ashrotd/AIClassifierModel/blob/main/oldVsNewPytorch.ipynb\" target=\"_parent\"><img src=\"https://colab.research.google.com/assets/colab-badge.svg\" alt=\"Open In Colab\"/></a>"
      ]
    },
    {
      "cell_type": "code",
      "execution_count": 1,
      "metadata": {
        "id": "zhxI8FJv-uVg"
      },
      "outputs": [],
      "source": [
        "import torch\n",
        "import torch.nn as nn"
      ]
    },
    {
      "cell_type": "code",
      "source": [
        "X = torch.tensor([[1],[2],[3],[4]],dtype=torch.float32)\n",
        "Y = torch.tensor([[2],[4],[6],[8]], dtype = torch.float32)\n",
        "X_test = torch.tensor([[6]],dtype=torch.float32)"
      ],
      "metadata": {
        "id": "uSXGjf2n-w_0"
      },
      "execution_count": 47,
      "outputs": []
    },
    {
      "cell_type": "code",
      "source": [
        "X.shape"
      ],
      "metadata": {
        "colab": {
          "base_uri": "https://localhost:8080/"
        },
        "id": "Xo6Vm2tw_KOe",
        "outputId": "680e1c9a-5442-4b52-9fef-11a53b978855"
      },
      "execution_count": 39,
      "outputs": [
        {
          "output_type": "execute_result",
          "data": {
            "text/plain": [
              "torch.Size([4, 1])"
            ]
          },
          "metadata": {},
          "execution_count": 39
        }
      ]
    },
    {
      "cell_type": "code",
      "source": [
        "n_sample,n_features = X.shape"
      ],
      "metadata": {
        "id": "aJ7J49ao_Ovw"
      },
      "execution_count": 40,
      "outputs": []
    },
    {
      "cell_type": "code",
      "source": [
        "input_size = n_features\n",
        "output_size = n_features"
      ],
      "metadata": {
        "id": "u_cFXFEx_TNH"
      },
      "execution_count": 41,
      "outputs": []
    },
    {
      "cell_type": "code",
      "source": [
        "class LinearModel(nn.Module):\n",
        "  def __init__(self,input_dims,output_dims):\n",
        "    super(LinearModel,self).__init__()\n",
        "\n",
        "    self.linear_model = nn.Linear(input_dims,output_dims)\n",
        "\n",
        "  def forward(self,x):\n",
        "    return self.linear_model(x)"
      ],
      "metadata": {
        "id": "l4_nn5u0_URP"
      },
      "execution_count": 42,
      "outputs": []
    },
    {
      "cell_type": "code",
      "source": [
        "model = LinearModel(input_size,output_size)"
      ],
      "metadata": {
        "id": "fvvSAnNI_0tv"
      },
      "execution_count": 43,
      "outputs": []
    },
    {
      "cell_type": "code",
      "source": [
        "loss = nn.MSELoss()\n",
        "optimizer = torch.optim.SGD(model.parameters(),lr=0.01)"
      ],
      "metadata": {
        "id": "2lvd1IEM_8Ds"
      },
      "execution_count": 44,
      "outputs": []
    },
    {
      "cell_type": "code",
      "source": [
        "[w,b] = model.parameters()"
      ],
      "metadata": {
        "id": "tiztQid3_-H1"
      },
      "execution_count": 45,
      "outputs": []
    },
    {
      "cell_type": "code",
      "source": [
        "for epochs in range(1000):\n",
        "  \n",
        "  y_pred = model.forward(X)\n",
        "\n",
        "  l = loss(Y,y_pred)\n",
        "  l.backward()\n",
        "  optimizer.step()\n",
        "  optimizer.zero_grad()\n",
        "\n",
        "  [w,b] = model.parameters()\n",
        "\n",
        "  if(epochs%1==0):\n",
        "    print(f'epochs {epochs+1}: weights: {w[0][0].item():.3f}, loss:{l:.8f}')\n",
        "print(f'Predicted value: {model.forward(X_test).item()}')"
      ],
      "metadata": {
        "id": "1Fkze2S-Bw7v"
      },
      "execution_count": 83,
      "outputs": []
    },
    {
      "cell_type": "code",
      "source": [
        "#Classical Way\n",
        "X = torch.tensor([1,2,3,4],dtype=torch.float32)\n",
        "Y = torch.tensor([1,4,6,8],dtype=torch.float32)\n",
        "w = torch.tensor(0.0,dtype=torch.float32,requires_grad=True)"
      ],
      "metadata": {
        "id": "TY5E0aBbBxxe"
      },
      "execution_count": 79,
      "outputs": []
    },
    {
      "cell_type": "code",
      "source": [
        "import numpy as np\n",
        "X = np.array([1,2,3,4,5], dtype=np.float32)\n",
        "Y = np.array([2,4,6,8,10], dtype=np.float32)\n",
        "w = 0.0"
      ],
      "metadata": {
        "id": "F24NFytnGWKS"
      },
      "execution_count": 68,
      "outputs": []
    },
    {
      "cell_type": "code",
      "source": [
        "def forward(x):\n",
        "  return x*w"
      ],
      "metadata": {
        "id": "eSLz2fNcEtrc"
      },
      "execution_count": 80,
      "outputs": []
    },
    {
      "cell_type": "code",
      "source": [
        "def loss(y,y_pred):\n",
        "  return ((y-y_pred)**2).mean()"
      ],
      "metadata": {
        "id": "uZotQ3YCE2LF"
      },
      "execution_count": 81,
      "outputs": []
    },
    {
      "cell_type": "code",
      "source": [
        "#def gradient(y,y_pred,x):\n",
        " # return (np.dot(2*x,y_pred-y)).mean()"
      ],
      "metadata": {
        "id": "yzIZgAa8E9X4"
      },
      "execution_count": 82,
      "outputs": []
    },
    {
      "cell_type": "code",
      "source": [
        "for epochs in range(100):\n",
        "\n",
        "  y_pred = forward(X)\n",
        "  l = loss(Y,y_pred)\n",
        "  #dw = gradient(Y,y_pred,X)\n",
        "  l.backward()\n",
        "\n",
        "  with torch.no_grad():\n",
        "    w  -= 0.01*w.grad\n",
        "  w.grad.zero_()\n",
        "  #w = w-0.01*dw\n",
        "  print(f'epochs :{epochs+1}, Weights: {w}, loss: {l}')\n",
        "print(f'Predicted Values: {forward(6)}')"
      ],
      "metadata": {
        "id": "XkLgqziFFkm3"
      },
      "execution_count": 83,
      "outputs": []
    },
    {
      "cell_type": "code",
      "source": [
        "# Newest Way\n",
        "X = torch.tensor([[1],[2],[3],[4]],dtype = torch.float32)\n",
        "Y = torch.tensor([[2],[4],[6],[8]], dtype = torch.float32)\n",
        "x_test = torch.tensor([[5]], dtype=torch.float32)\n",
        "\n",
        "n_sample,n_features = X.shape\n",
        "input_size = n_features\n",
        "output_size = n_features"
      ],
      "metadata": {
        "id": "3kn-S1S-GEz8"
      },
      "execution_count": 105,
      "outputs": []
    },
    {
      "cell_type": "code",
      "source": [
        "class LinearModule(nn.Module):\n",
        "  def __init__(self,input_dims,output_dims):\n",
        "    super(LinearModule,self).__init__()\n",
        "\n",
        "    self.linear_model = nn.Linear(input_dims,output_dims)\n",
        "\n",
        "  def forward(self,x):\n",
        "      return self.linear_model(x)"
      ],
      "metadata": {
        "id": "GkC6YqQaIwlN"
      },
      "execution_count": 106,
      "outputs": []
    },
    {
      "cell_type": "code",
      "source": [
        "model = LinearModule(input_size,output_size)"
      ],
      "metadata": {
        "id": "NTOefaXoJT6d"
      },
      "execution_count": 107,
      "outputs": []
    },
    {
      "cell_type": "code",
      "source": [
        "loss = nn.MSELoss()\n",
        "optimizer = torch.optim.SGD(model.parameters(),lr=0.01)"
      ],
      "metadata": {
        "id": "afHMAuHLJXiV"
      },
      "execution_count": 108,
      "outputs": []
    },
    {
      "cell_type": "code",
      "source": [
        "for epochs in range(1000):\n",
        "  y_pred = model.forward(X)\n",
        "  l = loss(Y,y_pred)\n",
        "  l.backward()\n",
        "  optimizer.step()\n",
        "\n",
        "  optimizer.zero_grad()\n",
        "  [w,b] = model.parameters()\n",
        "  if epochs%10==0:\n",
        "    print(f'Epochs :{epochs+1}, weights: {w[0][0].item():.3f}, loss: {l:.8f}')\n",
        "print(f'Predicted Value: {model.forward(x_test).item()}')"
      ],
      "metadata": {
        "id": "2O3iaCcLJiOU"
      },
      "execution_count": 110,
      "outputs": []
    },
    {
      "cell_type": "code",
      "source": [],
      "metadata": {
        "id": "HoHY88P2KR5F"
      },
      "execution_count": null,
      "outputs": []
    }
  ]
}