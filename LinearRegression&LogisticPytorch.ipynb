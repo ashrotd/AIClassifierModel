{
  "nbformat": 4,
  "nbformat_minor": 0,
  "metadata": {
    "colab": {
      "provenance": [],
      "authorship_tag": "ABX9TyOjOUcntzJtXQHiMSNHX11t",
      "include_colab_link": true
    },
    "kernelspec": {
      "name": "python3",
      "display_name": "Python 3"
    },
    "language_info": {
      "name": "python"
    }
  },
  "cells": [
    {
      "cell_type": "markdown",
      "metadata": {
        "id": "view-in-github",
        "colab_type": "text"
      },
      "source": [
        "<a href=\"https://colab.research.google.com/github/ashrotd/AIClassifierModel/blob/main/LinearRegression%26LogisticPytorch.ipynb\" target=\"_parent\"><img src=\"https://colab.research.google.com/assets/colab-badge.svg\" alt=\"Open In Colab\"/></a>"
      ]
    },
    {
      "cell_type": "code",
      "execution_count": 162,
      "metadata": {
        "id": "pynm2vuGMLXa"
      },
      "outputs": [],
      "source": [
        "#Design a model\n",
        "#construct loss and optimizer\n",
        "#trainig looop\n",
        "# - forward pass: compute predictin and loss\n",
        "#- backward pass: gradients\n",
        "#- update weights\n",
        "\n",
        "import torch\n",
        "import torch.nn as nn\n",
        "import numpy as np\n",
        "from sklearn import datasets\n",
        "import matplotlib.pyplot as plt"
      ]
    },
    {
      "cell_type": "code",
      "source": [
        "x_numpy, y_numpy = datasets.make_regression(n_samples=100,n_features=1,noise =20,random_state=1)"
      ],
      "metadata": {
        "id": "iupEmWR9OwTG"
      },
      "execution_count": 163,
      "outputs": []
    },
    {
      "cell_type": "code",
      "source": [
        "X = torch.from_numpy(x_numpy.astype(np.float32))\n",
        "Y = torch.from_numpy(y_numpy.astype(np.float32))\n",
        "Y = Y.view(Y.shape[0],1)"
      ],
      "metadata": {
        "id": "oTQfd3nyPLW-"
      },
      "execution_count": 164,
      "outputs": []
    },
    {
      "cell_type": "code",
      "source": [
        "n_samples,n_features = X.shape"
      ],
      "metadata": {
        "id": "x2mj3YSQQGD0"
      },
      "execution_count": 170,
      "outputs": []
    },
    {
      "cell_type": "code",
      "source": [
        " input_size=n_features\n",
        " output_size = 1"
      ],
      "metadata": {
        "id": "uX3TGsf8QePl"
      },
      "execution_count": 171,
      "outputs": []
    },
    {
      "cell_type": "code",
      "source": [
        "model = nn.Linear(input_size,output_size)"
      ],
      "metadata": {
        "id": "6Dbv8fWwQKid"
      },
      "execution_count": 172,
      "outputs": []
    },
    {
      "cell_type": "code",
      "source": [
        "criterion = nn.MSELoss()\n",
        "optimizer = torch.optim.SGD(model.parameters(),lr=0.01)"
      ],
      "metadata": {
        "id": "PPypvV4XQraA"
      },
      "execution_count": 173,
      "outputs": []
    },
    {
      "cell_type": "code",
      "source": [
        "for epochs in range(100):\n",
        "  y_pred = model(X)\n",
        "  loss = criterion(y_pred,Y)\n",
        "  loss.backward()\n",
        "  optimizer.step()\n",
        "  optimizer.zero_grad()\n",
        "\n",
        "  if epochs%10==0:\n",
        "    print(f'epochs : {epochs+1}, losss: {loss.item():.4f}')\n",
        "\n",
        "predict = model(X).detach().numpy()\n",
        "plt.plot(x_numpy,y_numpy,'ro')\n",
        "plt.plot(x_numpy,predict,'b')\n",
        "plt.show()"
      ],
      "metadata": {
        "colab": {
          "base_uri": "https://localhost:8080/",
          "height": 612
        },
        "id": "j6bfGGwUQ2ec",
        "outputId": "3c80a1be-c8b0-448c-b1f4-8036326411b7"
      },
      "execution_count": 174,
      "outputs": [
        {
          "output_type": "stream",
          "name": "stdout",
          "text": [
            "epochs : 1, losss: 5645.9434\n",
            "epochs : 11, losss: 4185.6377\n",
            "epochs : 21, losss: 3129.1946\n",
            "epochs : 31, losss: 2364.0969\n",
            "epochs : 41, losss: 1809.4438\n",
            "epochs : 51, losss: 1406.9797\n",
            "epochs : 61, losss: 1114.6968\n",
            "epochs : 71, losss: 902.2642\n",
            "epochs : 81, losss: 747.7555\n",
            "epochs : 91, losss: 635.3020\n"
          ]
        },
        {
          "output_type": "display_data",
          "data": {
            "text/plain": [
              "<Figure size 640x480 with 1 Axes>"
            ],
            "image/png": "[encoded data removed]"
          },
          "metadata": {}
        }
      ]
    },
    {
      "cell_type": "code",
      "source": [
        "#Logistic Regression\n",
        "import torch\n",
        "import torch.nn as nn\n",
        "from sklearn import datasets\n",
        "from sklearn.preprocessing import StandardScaler\n",
        "from sklearn.model_selection import train_test_split"
      ],
      "metadata": {
        "id": "BMcmJXseSJiH"
      },
      "execution_count": 175,
      "outputs": []
    },
    {
      "cell_type": "code",
      "source": [
        "#Prepare the data\n",
        "bc = datasets.load_breast_cancer()\n",
        "x,y = bc.data,bc.target\n",
        "n_samples,n_features = x.shape\n"
      ],
      "metadata": {
        "id": "D522yuJEM9fe"
      },
      "execution_count": 176,
      "outputs": []
    },
    {
      "cell_type": "code",
      "source": [
        "x_train,x_test,y_train,y_test = train_test_split(x,y,test_size=.2,random_state=1234)"
      ],
      "metadata": {
        "id": "mR5Y6AYjNQuS"
      },
      "execution_count": 177,
      "outputs": []
    },
    {
      "cell_type": "code",
      "source": [
        "x_train.shape"
      ],
      "metadata": {
        "colab": {
          "base_uri": "https://localhost:8080/"
        },
        "id": "m61EbWsBNR-b",
        "outputId": "538bc6b8-9b85-4d3e-84e1-1561a526fb40"
      },
      "execution_count": 132,
      "outputs": [
        {
          "output_type": "execute_result",
          "data": {
            "text/plain": [
              "(455, 30)"
            ]
          },
          "metadata": {},
          "execution_count": 132
        }
      ]
    },
    {
      "cell_type": "code",
      "source": [
        "#Scale our features\n",
        "sc = StandardScaler()\n",
        "x_train = sc.fit_transform(x_train)\n",
        "x_test = sc.fit_transform(x_test)"
      ],
      "metadata": {
        "id": "aw7YsvtNNXl1"
      },
      "execution_count": 178,
      "outputs": []
    },
    {
      "cell_type": "code",
      "source": [],
      "metadata": {
        "id": "y5LyZbpENe6y"
      },
      "execution_count": 133,
      "outputs": []
    },
    {
      "cell_type": "code",
      "source": [
        "\n",
        "X_train = torch.from_numpy(x_train.astype(np.float32))\n",
        "X_test = torch.from_numpy(x_test.astype(np.float32))\n",
        "Y_train = torch.from_numpy(y_train.astype(np.float32))\n",
        "Y_test = torch.from_numpy(y_test.astype(np.float32))"
      ],
      "metadata": {
        "id": "ihNkDGPHOKCL"
      },
      "execution_count": 179,
      "outputs": []
    },
    {
      "cell_type": "code",
      "source": [
        "Y_train = Y_train.view(Y_train.shape[0],1)\n",
        "Y_test = Y_test.view(Y_test.shape[0],1)"
      ],
      "metadata": {
        "id": "dCk2Kk0iQdcD"
      },
      "execution_count": 180,
      "outputs": []
    },
    {
      "cell_type": "code",
      "source": [
        "X_test.shape"
      ],
      "metadata": {
        "colab": {
          "base_uri": "https://localhost:8080/"
        },
        "id": "q_AChw00Qj2m",
        "outputId": "9753b4b5-cf2b-4cf2-f0c4-e7e79558acef"
      },
      "execution_count": 136,
      "outputs": [
        {
          "output_type": "execute_result",
          "data": {
            "text/plain": [
              "torch.Size([114, 30])"
            ]
          },
          "metadata": {},
          "execution_count": 136
        }
      ]
    },
    {
      "cell_type": "code",
      "source": [
        "class logisticModel(nn.Module):\n",
        "  def __init__(self,input_dims,output_dims):\n",
        "    super(logisticModel,self).__init__()\n",
        "\n",
        "    self.linear_model = nn.Linear(input_dims,output_dims)\n",
        "\n",
        "  def forward(self,x):\n",
        "    y_pred = torch.sigmoid(self.linear_model(x))\n",
        "    return y_pred"
      ],
      "metadata": {
        "id": "qA2GL9drQndU"
      },
      "execution_count": 181,
      "outputs": []
    },
    {
      "cell_type": "code",
      "source": [
        "model = logisticModel(n_features,1)"
      ],
      "metadata": {
        "id": "N0ewrhWLRQdN"
      },
      "execution_count": 182,
      "outputs": []
    },
    {
      "cell_type": "code",
      "source": [
        "loss = nn.BCELoss()\n",
        "optimizer = torch.optim.SGD(model.parameters(),lr=0.01)"
      ],
      "metadata": {
        "id": "X3dVuTutTVMT"
      },
      "execution_count": 183,
      "outputs": []
    },
    {
      "cell_type": "code",
      "source": [
        "X_test"
      ],
      "metadata": {
        "id": "v8XGvuYmTjj4"
      },
      "execution_count": 105,
      "outputs": []
    },
    {
      "cell_type": "code",
      "source": [
        "for epochs in range(1000):\n",
        "  y_pred = model.forward(X_train)\n",
        "  l = loss(y_pred,Y_train)\n",
        "  l.backward()\n",
        "  optimizer.step()\n",
        "  optimizer.zero_grad()\n",
        "\n",
        "  if epochs%10==0:\n",
        "    print(f'Epochs: {epochs+1}, loss: {l.item():.4f}')\n",
        "  \n",
        "with torch.no_grad():\n",
        "  Predicted = model(X_test)\n",
        "\n",
        "  Predicted_classs = Predicted.round()\n",
        "  accuracy = Predicted_classs.eq(Y_test).sum()/float(Y_test.shape[0])\n",
        "  print(f'accuracy=={accuracy:.4f}')\n"
      ],
      "metadata": {
        "colab": {
          "base_uri": "https://localhost:8080/"
        },
        "id": "ttp8y6-NkkkS",
        "outputId": "77ae61a1-88d3-4e15-a01f-2e7c9fc35bb5"
      },
      "execution_count": 184,
      "outputs": [
        {
          "output_type": "stream",
          "name": "stdout",
          "text": [
            "Epochs: 1, loss: 0.7763\n",
            "Epochs: 11, loss: 0.5874\n",
            "Epochs: 21, loss: 0.4797\n",
            "Epochs: 31, loss: 0.4133\n",
            "Epochs: 41, loss: 0.3685\n",
            "Epochs: 51, loss: 0.3357\n",
            "Epochs: 61, loss: 0.3106\n",
            "Epochs: 71, loss: 0.2904\n",
            "Epochs: 81, loss: 0.2738\n",
            "Epochs: 91, loss: 0.2597\n",
            "Epochs: 101, loss: 0.2476\n",
            "Epochs: 111, loss: 0.2371\n",
            "Epochs: 121, loss: 0.2278\n",
            "Epochs: 131, loss: 0.2196\n",
            "Epochs: 141, loss: 0.2121\n",
            "Epochs: 151, loss: 0.2054\n",
            "Epochs: 161, loss: 0.1993\n",
            "Epochs: 171, loss: 0.1936\n",
            "Epochs: 181, loss: 0.1885\n",
            "Epochs: 191, loss: 0.1837\n",
            "Epochs: 201, loss: 0.1793\n",
            "Epochs: 211, loss: 0.1751\n",
            "Epochs: 221, loss: 0.1713\n",
            "Epochs: 231, loss: 0.1677\n",
            "Epochs: 241, loss: 0.1643\n",
            "Epochs: 251, loss: 0.1611\n",
            "Epochs: 261, loss: 0.1582\n",
            "Epochs: 271, loss: 0.1553\n",
            "Epochs: 281, loss: 0.1527\n",
            "Epochs: 291, loss: 0.1501\n",
            "Epochs: 301, loss: 0.1477\n",
            "Epochs: 311, loss: 0.1455\n",
            "Epochs: 321, loss: 0.1433\n",
            "Epochs: 331, loss: 0.1412\n",
            "Epochs: 341, loss: 0.1393\n",
            "Epochs: 351, loss: 0.1374\n",
            "Epochs: 361, loss: 0.1356\n",
            "Epochs: 371, loss: 0.1339\n",
            "Epochs: 381, loss: 0.1322\n",
            "Epochs: 391, loss: 0.1306\n",
            "Epochs: 401, loss: 0.1291\n",
            "Epochs: 411, loss: 0.1277\n",
            "Epochs: 421, loss: 0.1263\n",
            "Epochs: 431, loss: 0.1249\n",
            "Epochs: 441, loss: 0.1236\n",
            "Epochs: 451, loss: 0.1224\n",
            "Epochs: 461, loss: 0.1212\n",
            "Epochs: 471, loss: 0.1200\n",
            "Epochs: 481, loss: 0.1189\n",
            "Epochs: 491, loss: 0.1178\n",
            "Epochs: 501, loss: 0.1168\n",
            "Epochs: 511, loss: 0.1158\n",
            "Epochs: 521, loss: 0.1148\n",
            "Epochs: 531, loss: 0.1138\n",
            "Epochs: 541, loss: 0.1129\n",
            "Epochs: 551, loss: 0.1120\n",
            "Epochs: 561, loss: 0.1111\n",
            "Epochs: 571, loss: 0.1103\n",
            "Epochs: 581, loss: 0.1095\n",
            "Epochs: 591, loss: 0.1087\n",
            "Epochs: 601, loss: 0.1079\n",
            "Epochs: 611, loss: 0.1071\n",
            "Epochs: 621, loss: 0.1064\n",
            "Epochs: 631, loss: 0.1057\n",
            "Epochs: 641, loss: 0.1050\n",
            "Epochs: 651, loss: 0.1043\n",
            "Epochs: 661, loss: 0.1036\n",
            "Epochs: 671, loss: 0.1030\n",
            "Epochs: 681, loss: 0.1024\n",
            "Epochs: 691, loss: 0.1017\n",
            "Epochs: 701, loss: 0.1011\n",
            "Epochs: 711, loss: 0.1005\n",
            "Epochs: 721, loss: 0.1000\n",
            "Epochs: 731, loss: 0.0994\n",
            "Epochs: 741, loss: 0.0989\n",
            "Epochs: 751, loss: 0.0983\n",
            "Epochs: 761, loss: 0.0978\n",
            "Epochs: 771, loss: 0.0973\n",
            "Epochs: 781, loss: 0.0968\n",
            "Epochs: 791, loss: 0.0963\n",
            "Epochs: 801, loss: 0.0958\n",
            "Epochs: 811, loss: 0.0953\n",
            "Epochs: 821, loss: 0.0948\n",
            "Epochs: 831, loss: 0.0944\n",
            "Epochs: 841, loss: 0.0939\n",
            "Epochs: 851, loss: 0.0935\n",
            "Epochs: 861, loss: 0.0931\n",
            "Epochs: 871, loss: 0.0926\n",
            "Epochs: 881, loss: 0.0922\n",
            "Epochs: 891, loss: 0.0918\n",
            "Epochs: 901, loss: 0.0914\n",
            "Epochs: 911, loss: 0.0910\n",
            "Epochs: 921, loss: 0.0906\n",
            "Epochs: 931, loss: 0.0902\n",
            "Epochs: 941, loss: 0.0899\n",
            "Epochs: 951, loss: 0.0895\n",
            "Epochs: 961, loss: 0.0891\n",
            "Epochs: 971, loss: 0.0888\n",
            "Epochs: 981, loss: 0.0884\n",
            "Epochs: 991, loss: 0.0881\n",
            "accuracy==0.9386\n"
          ]
        }
      ]
    },
    {
      "cell_type": "code",
      "source": [],
      "metadata": {
        "id": "8JvO4hJYqCi5"
      },
      "execution_count": null,
      "outputs": []
    }
  ]
}